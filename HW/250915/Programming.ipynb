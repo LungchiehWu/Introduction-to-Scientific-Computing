import numpy as np
from scipy.interpolate import CubicSpline
import matplotlib.pyplot as plt
import time

def runge(x):
    return 1 / (1 + 25 * x**2)

tol = 1e-10
N = 1
N_values = []
error_values = []

print("Starting the search for N...")
start_time = time.time()

while True:
    x_nodes = np.linspace(-1, 1, N + 1)
    y_nodes = runge(x_nodes)
    
    cs = CubicSpline(x_nodes, y_nodes, bc_type='not-a-knot')
    
    x_test = np.linspace(-1, 1, 2000)
    y_true = runge(x_test)
    y_pred = cs(x_test)
    
    error = np.max(np.abs(y_true - y_pred))
    
    N_values.append(N)
    error_values.append(error)
    
    if N % 100 == 0:
        print(f"N = {N}, Current max error = {error:.4e}")

    if error < tol:
        break
    
    N += 1

end_time = time.time()
