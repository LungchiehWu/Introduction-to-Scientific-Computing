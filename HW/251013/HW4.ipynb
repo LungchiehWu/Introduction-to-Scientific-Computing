{
 "cells": [
  {
   "cell_type": "markdown",
   "id": "eb992c9e-de75-4d1e-afaf-7154e98e8cad",
   "metadata": {},
   "source": [
    "### 1.\n",
    "$$\\int_{0}^{\\infty} \\frac{1}{1+25x^{2}}  dx$$"
   ]
  },
  {
   "cell_type": "code",
   "execution_count": 8,
   "id": "4131f54f-a2aa-48a2-9c35-357a7a354c66",
   "metadata": {},
   "outputs": [
    {
     "name": "stdout",
     "output_type": "stream",
     "text": [
      "Result: 0.3141592653589793\n",
      "Error: 2.7191741778977724e-13\n"
     ]
    }
   ],
   "source": [
    "from scipy.integrate import quad\n",
    "import numpy as np\n",
    "\n",
    "def integrand(x):\n",
    "    return 1.0 / (1 + 25*x**2)\n",
    "\n",
    "result,error = quad(integrand, 0, np.inf, epsabs=1e-10, epsrel=1e-10)\n",
    "\n",
    "print(f\"Result: {result}\")\n",
    "print(f\"Error: {error}\")"
   ]
  },
  {
   "cell_type": "markdown",
   "id": "f0d8c470-976b-4e30-9370-05593586ed1e",
   "metadata": {},
   "source": [
    "### 2.\n",
    "$$\\int_{0}^{1} \\frac{\\ln(x)}{1+25x^{2}}  dx$$"
   ]
  },
  {
   "cell_type": "code",
   "execution_count": 9,
   "id": "68291118-2174-4083-bccc-4fd53bca4183",
   "metadata": {},
   "outputs": [
    {
     "name": "stdout",
     "output_type": "stream",
     "text": [
      "Result: -0.5454445634197979\n",
      "Error: 4.2569170410899915e-11\n"
     ]
    }
   ],
   "source": [
    "def integrand(x):\n",
    "    return np.log(x) / (1 + 25*x**2)\n",
    "\n",
    "result, error = quad(integrand, 0, 1, epsabs=1e-10, epsrel=1e-10)\n",
    "\n",
    "print(f\"Result: {result}\")\n",
    "print(f\"Error: {error}\")"
   ]
  },
  {
   "cell_type": "code",
   "execution_count": null,
   "id": "9209f2d0-e01b-489d-9893-ec2cffdf1382",
   "metadata": {},
   "outputs": [],
   "source": []
  }
 ],
 "metadata": {
  "kernelspec": {
   "display_name": "Python 3 (ipykernel)",
   "language": "python",
   "name": "python3"
  },
  "language_info": {
   "codemirror_mode": {
    "name": "ipython",
    "version": 3
   },
   "file_extension": ".py",
   "mimetype": "text/x-python",
   "name": "python",
   "nbconvert_exporter": "python",
   "pygments_lexer": "ipython3",
   "version": "3.12.4"
  }
 },
 "nbformat": 4,
 "nbformat_minor": 5
}
